{
  "cells": [
    {
      "cell_type": "markdown",
      "source": [
        "Install necessary libraries"
      ],
      "metadata": {
        "id": "doFuqg2um--C"
      }
    },
    {
      "cell_type": "code",
      "execution_count": null,
      "metadata": {
        "colab": {
          "base_uri": "https://localhost:8080/"
        },
        "id": "xpNJfAtzJNwI",
        "outputId": "0bb1d660-f14c-4f85-c120-795ed261df66"
      },
      "outputs": [
        {
          "output_type": "stream",
          "name": "stdout",
          "text": [
            "Requirement already satisfied: opencv-python in /usr/local/lib/python3.10/dist-packages (4.8.0.76)\n",
            "Requirement already satisfied: numpy>=1.21.2 in /usr/local/lib/python3.10/dist-packages (from opencv-python) (1.25.2)\n",
            "Collecting mediapipe\n",
            "  Downloading mediapipe-0.10.11-cp310-cp310-manylinux_2_17_x86_64.manylinux2014_x86_64.whl (35.6 MB)\n",
            "\u001b[2K     \u001b[90m━━━━━━━━━━━━━━━━━━━━━━━━━━━━━━━━━━━━━━━━\u001b[0m \u001b[32m35.6/35.6 MB\u001b[0m \u001b[31m25.0 MB/s\u001b[0m eta \u001b[36m0:00:00\u001b[0m\n",
            "\u001b[?25hRequirement already satisfied: absl-py in /usr/local/lib/python3.10/dist-packages (from mediapipe) (1.4.0)\n",
            "Requirement already satisfied: attrs>=19.1.0 in /usr/local/lib/python3.10/dist-packages (from mediapipe) (23.2.0)\n",
            "Requirement already satisfied: flatbuffers>=2.0 in /usr/local/lib/python3.10/dist-packages (from mediapipe) (24.3.25)\n",
            "Requirement already satisfied: jax in /usr/local/lib/python3.10/dist-packages (from mediapipe) (0.4.26)\n",
            "Requirement already satisfied: jaxlib in /usr/local/lib/python3.10/dist-packages (from mediapipe) (0.4.26+cuda12.cudnn89)\n",
            "Requirement already satisfied: matplotlib in /usr/local/lib/python3.10/dist-packages (from mediapipe) (3.7.1)\n",
            "Requirement already satisfied: numpy in /usr/local/lib/python3.10/dist-packages (from mediapipe) (1.25.2)\n",
            "Requirement already satisfied: torch in /usr/local/lib/python3.10/dist-packages (from mediapipe) (2.2.1+cu121)\n",
            "Requirement already satisfied: opencv-contrib-python in /usr/local/lib/python3.10/dist-packages (from mediapipe) (4.8.0.76)\n",
            "Requirement already satisfied: protobuf<4,>=3.11 in /usr/local/lib/python3.10/dist-packages (from mediapipe) (3.20.3)\n",
            "Collecting sounddevice>=0.4.4 (from mediapipe)\n",
            "  Downloading sounddevice-0.4.6-py3-none-any.whl (31 kB)\n",
            "Requirement already satisfied: CFFI>=1.0 in /usr/local/lib/python3.10/dist-packages (from sounddevice>=0.4.4->mediapipe) (1.16.0)\n",
            "Requirement already satisfied: ml-dtypes>=0.2.0 in /usr/local/lib/python3.10/dist-packages (from jax->mediapipe) (0.2.0)\n",
            "Requirement already satisfied: opt-einsum in /usr/local/lib/python3.10/dist-packages (from jax->mediapipe) (3.3.0)\n",
            "Requirement already satisfied: scipy>=1.9 in /usr/local/lib/python3.10/dist-packages (from jax->mediapipe) (1.11.4)\n",
            "Requirement already satisfied: contourpy>=1.0.1 in /usr/local/lib/python3.10/dist-packages (from matplotlib->mediapipe) (1.2.1)\n",
            "Requirement already satisfied: cycler>=0.10 in /usr/local/lib/python3.10/dist-packages (from matplotlib->mediapipe) (0.12.1)\n",
            "Requirement already satisfied: fonttools>=4.22.0 in /usr/local/lib/python3.10/dist-packages (from matplotlib->mediapipe) (4.51.0)\n",
            "Requirement already satisfied: kiwisolver>=1.0.1 in /usr/local/lib/python3.10/dist-packages (from matplotlib->mediapipe) (1.4.5)\n",
            "Requirement already satisfied: packaging>=20.0 in /usr/local/lib/python3.10/dist-packages (from matplotlib->mediapipe) (24.0)\n",
            "Requirement already satisfied: pillow>=6.2.0 in /usr/local/lib/python3.10/dist-packages (from matplotlib->mediapipe) (9.4.0)\n",
            "Requirement already satisfied: pyparsing>=2.3.1 in /usr/local/lib/python3.10/dist-packages (from matplotlib->mediapipe) (3.1.2)\n",
            "Requirement already satisfied: python-dateutil>=2.7 in /usr/local/lib/python3.10/dist-packages (from matplotlib->mediapipe) (2.8.2)\n",
            "Requirement already satisfied: filelock in /usr/local/lib/python3.10/dist-packages (from torch->mediapipe) (3.13.4)\n",
            "Requirement already satisfied: typing-extensions>=4.8.0 in /usr/local/lib/python3.10/dist-packages (from torch->mediapipe) (4.11.0)\n",
            "Requirement already satisfied: sympy in /usr/local/lib/python3.10/dist-packages (from torch->mediapipe) (1.12)\n",
            "Requirement already satisfied: networkx in /usr/local/lib/python3.10/dist-packages (from torch->mediapipe) (3.3)\n",
            "Requirement already satisfied: jinja2 in /usr/local/lib/python3.10/dist-packages (from torch->mediapipe) (3.1.3)\n",
            "Requirement already satisfied: fsspec in /usr/local/lib/python3.10/dist-packages (from torch->mediapipe) (2023.6.0)\n",
            "Collecting nvidia-cuda-nvrtc-cu12==12.1.105 (from torch->mediapipe)\n",
            "  Using cached nvidia_cuda_nvrtc_cu12-12.1.105-py3-none-manylinux1_x86_64.whl (23.7 MB)\n",
            "Collecting nvidia-cuda-runtime-cu12==12.1.105 (from torch->mediapipe)\n",
            "  Using cached nvidia_cuda_runtime_cu12-12.1.105-py3-none-manylinux1_x86_64.whl (823 kB)\n",
            "Collecting nvidia-cuda-cupti-cu12==12.1.105 (from torch->mediapipe)\n",
            "  Using cached nvidia_cuda_cupti_cu12-12.1.105-py3-none-manylinux1_x86_64.whl (14.1 MB)\n",
            "Collecting nvidia-cudnn-cu12==8.9.2.26 (from torch->mediapipe)\n",
            "  Using cached nvidia_cudnn_cu12-8.9.2.26-py3-none-manylinux1_x86_64.whl (731.7 MB)\n",
            "Collecting nvidia-cublas-cu12==12.1.3.1 (from torch->mediapipe)\n",
            "  Using cached nvidia_cublas_cu12-12.1.3.1-py3-none-manylinux1_x86_64.whl (410.6 MB)\n",
            "Collecting nvidia-cufft-cu12==11.0.2.54 (from torch->mediapipe)\n",
            "  Using cached nvidia_cufft_cu12-11.0.2.54-py3-none-manylinux1_x86_64.whl (121.6 MB)\n",
            "Collecting nvidia-curand-cu12==10.3.2.106 (from torch->mediapipe)\n",
            "  Using cached nvidia_curand_cu12-10.3.2.106-py3-none-manylinux1_x86_64.whl (56.5 MB)\n",
            "Collecting nvidia-cusolver-cu12==11.4.5.107 (from torch->mediapipe)\n",
            "  Using cached nvidia_cusolver_cu12-11.4.5.107-py3-none-manylinux1_x86_64.whl (124.2 MB)\n",
            "Collecting nvidia-cusparse-cu12==12.1.0.106 (from torch->mediapipe)\n",
            "  Using cached nvidia_cusparse_cu12-12.1.0.106-py3-none-manylinux1_x86_64.whl (196.0 MB)\n",
            "Collecting nvidia-nccl-cu12==2.19.3 (from torch->mediapipe)\n",
            "  Using cached nvidia_nccl_cu12-2.19.3-py3-none-manylinux1_x86_64.whl (166.0 MB)\n",
            "Collecting nvidia-nvtx-cu12==12.1.105 (from torch->mediapipe)\n",
            "  Using cached nvidia_nvtx_cu12-12.1.105-py3-none-manylinux1_x86_64.whl (99 kB)\n",
            "Requirement already satisfied: triton==2.2.0 in /usr/local/lib/python3.10/dist-packages (from torch->mediapipe) (2.2.0)\n",
            "Collecting nvidia-nvjitlink-cu12 (from nvidia-cusolver-cu12==11.4.5.107->torch->mediapipe)\n",
            "  Using cached nvidia_nvjitlink_cu12-12.4.127-py3-none-manylinux2014_x86_64.whl (21.1 MB)\n",
            "Requirement already satisfied: pycparser in /usr/local/lib/python3.10/dist-packages (from CFFI>=1.0->sounddevice>=0.4.4->mediapipe) (2.22)\n",
            "Requirement already satisfied: six>=1.5 in /usr/local/lib/python3.10/dist-packages (from python-dateutil>=2.7->matplotlib->mediapipe) (1.16.0)\n",
            "Requirement already satisfied: MarkupSafe>=2.0 in /usr/local/lib/python3.10/dist-packages (from jinja2->torch->mediapipe) (2.1.5)\n",
            "Requirement already satisfied: mpmath>=0.19 in /usr/local/lib/python3.10/dist-packages (from sympy->torch->mediapipe) (1.3.0)\n",
            "Installing collected packages: nvidia-nvtx-cu12, nvidia-nvjitlink-cu12, nvidia-nccl-cu12, nvidia-curand-cu12, nvidia-cufft-cu12, nvidia-cuda-runtime-cu12, nvidia-cuda-nvrtc-cu12, nvidia-cuda-cupti-cu12, nvidia-cublas-cu12, sounddevice, nvidia-cusparse-cu12, nvidia-cudnn-cu12, nvidia-cusolver-cu12, mediapipe\n",
            "Successfully installed mediapipe-0.10.11 nvidia-cublas-cu12-12.1.3.1 nvidia-cuda-cupti-cu12-12.1.105 nvidia-cuda-nvrtc-cu12-12.1.105 nvidia-cuda-runtime-cu12-12.1.105 nvidia-cudnn-cu12-8.9.2.26 nvidia-cufft-cu12-11.0.2.54 nvidia-curand-cu12-10.3.2.106 nvidia-cusolver-cu12-11.4.5.107 nvidia-cusparse-cu12-12.1.0.106 nvidia-nccl-cu12-2.19.3 nvidia-nvjitlink-cu12-12.4.127 nvidia-nvtx-cu12-12.1.105 sounddevice-0.4.6\n"
          ]
        }
      ],
      "source": [
        "!pip install opencv-python\n",
        "!pip install mediapipe"
      ]
    },
    {
      "cell_type": "markdown",
      "source": [
        "Import python modules"
      ],
      "metadata": {
        "id": "oZSsjZjbof7Y"
      }
    },
    {
      "cell_type": "code",
      "execution_count": null,
      "metadata": {
        "id": "xzfwoLNKJYrl"
      },
      "outputs": [],
      "source": [
        "import cv2\n",
        "import mediapipe as mp\n",
        "import numpy as np"
      ]
    },
    {
      "cell_type": "markdown",
      "source": [
        "Import specific video for landmark extraction"
      ],
      "metadata": {
        "id": "fvBUHcXwpj6D"
      }
    },
    {
      "cell_type": "code",
      "execution_count": null,
      "metadata": {
        "id": "txIjNB13Japd"
      },
      "outputs": [],
      "source": [
        "cap = cv2.VideoCapture(\"/content/1.mp4\")"
      ]
    },
    {
      "cell_type": "markdown",
      "source": [
        "Visualisation of landmark extraction"
      ],
      "metadata": {
        "id": "3IS8gk2opwji"
      }
    },
    {
      "cell_type": "code",
      "execution_count": null,
      "metadata": {
        "id": "SHcGtPd3JeNK"
      },
      "outputs": [],
      "source": [
        "from google.colab.patches import cv2_imshow\n",
        "import numpy as np\n",
        "import cv2\n",
        "import mediapipe as mp\n",
        "\n",
        "mp_pose = mp.solutions.pose\n",
        "mp_draw = mp.solutions.drawing_utils\n",
        "pose = mp_pose.Pose()\n",
        "\n",
        "# Initialise a frame counter\n",
        "frame_counter = 0\n",
        "\n",
        "while True:\n",
        "    # Read frame-by-frame\n",
        "    ret, frame = cap.read()\n",
        "    if not ret:\n",
        "        print(\"Error reading frame or end of video. Exiting...\")\n",
        "        break\n",
        "\n",
        "    # Increment the frame counter\n",
        "    frame_counter += 1\n",
        "\n",
        "    # Process only every 5th frame\n",
        "    if frame_counter % 5 == 0:\n",
        "        results = pose.process(frame)\n",
        "        if results.pose_landmarks:\n",
        "            # Extract only the landmarks of interest\n",
        "            specific_landmarks = [results.pose_landmarks.landmark[i] for i in [0, 12, 11, 23, 24, 25, 26, 27, 28,15,16,13,14]]\n",
        "\n",
        "            # Store the landmark labels\n",
        "            labels = ['Nose', 'Right Shoulder', 'Left Shoulder', 'Left Hip', 'Right Hip', 'Left Knee', 'Right Knee', 'Left Foot', 'Right Foot','Left Wrist','Right Wrist','Left Elbow','Right Elbow']\n",
        "\n",
        "            # Drawing the detected pose with specified landmarks and lines\n",
        "            for idx, landmark in enumerate(specific_landmarks):\n",
        "                # Draw a circle around each specified landmark\n",
        "                landmark_x = int(landmark.x * frame.shape[1])\n",
        "                landmark_y = int(landmark.y * frame.shape[0])\n",
        "                cv2.circle(frame, (landmark_x, landmark_y), 5, (0, 255, 0), -1)\n",
        "\n",
        "            # Draw lines between the landmarks\n",
        "            connections = [[0, 1], [0, 2], [1, 2], [1, 3], [2, 4], [3, 5], [4, 6], [5, 7], [6, 8], [1, 12], [12, 10], [2, 11], [11, 9]]\n",
        "            for connection in connections:\n",
        "                cv2.line(frame, (int(specific_landmarks[connection[0]].x * frame.shape[1]), int(specific_landmarks[connection[0]].y * frame.shape[0])),\n",
        "                         (int(specific_landmarks[connection[1]].x * frame.shape[1]), int(specific_landmarks[connection[1]].y * frame.shape[0])), (0, 0, 255), 2)\n",
        "\n",
        "            cv2_imshow(frame)\n",
        "\n",
        "            print(\"Landmark Labels:\")\n",
        "            for idx, label in enumerate(labels):\n",
        "                print(f\"{label}: x={specific_landmarks[idx].x}, y={specific_landmarks[idx].y}\")\n",
        "\n",
        "            print(\"\\n\")\n",
        "    # Else, skip the frame without processing\n"
      ]
    },
    {
      "cell_type": "markdown",
      "metadata": {
        "id": "yKmvPoVZwGHW"
      },
      "source": [
        "# CSV file creation\n",
        "\n"
      ]
    },
    {
      "cell_type": "markdown",
      "metadata": {
        "id": "Q1mnq5ALoK-z"
      },
      "source": [
        "Make sure to change the file path in the code below for the video.\n"
      ]
    },
    {
      "cell_type": "markdown",
      "source": [
        "The code below processes the video, extracts pose landmarks and stores them in a csv file."
      ],
      "metadata": {
        "id": "uyZza096rRhJ"
      }
    },
    {
      "cell_type": "code",
      "execution_count": null,
      "metadata": {
        "colab": {
          "base_uri": "https://localhost:8080/"
        },
        "id": "WbZHPcMJOx9j",
        "outputId": "d9056742-0e55-42fd-cd3c-8cdcff0cdc16"
      },
      "outputs": [
        {
          "output_type": "stream",
          "name": "stdout",
          "text": [
            "Error reading frame or end of video. Exiting...\n",
            "Video processing and CSV writing completed.\n"
          ]
        }
      ],
      "source": [
        "import cv2\n",
        "import mediapipe as mp\n",
        "import csv\n",
        "\n",
        "# Initialise MediaPipe Pose\n",
        "mp_pose = mp.solutions.pose\n",
        "pose = mp_pose.Pose()\n",
        "\n",
        "# Initialise a frame counter\n",
        "frame_counter = 0\n",
        "\n",
        "# Specify the indices and labels for the landmarks of interest\n",
        "landmark_indices = [0, 12, 11, 23, 24, 25, 26, 27, 28, 15, 16, 13, 14]\n",
        "landmark_labels = ['Nose', 'Right Shoulder', 'Left Shoulder', 'Left Hip', 'Right Hip', 'Left Knee', 'Right Knee', 'Left Foot', 'Right Foot', 'Left Wrist', 'Right Wrist', 'Left Elbow', 'Right Elbow']\n",
        "\n",
        "# Prepare the CSV file for writing\n",
        "csv_filename = \"//content/pose_landmarks.csv\"  # Update this path as necessary\n",
        "\n",
        "# Open the CSV file for writing\n",
        "with open(csv_filename, 'w', newline='') as csvfile:\n",
        "    csvwriter = csv.writer(csvfile)\n",
        "    # Write the header\n",
        "    csvwriter.writerow(['Landmark Name', 'X', 'Y', 'Frame Number'])\n",
        "\n",
        "    # Setup video capture\n",
        "    video_path = \"/content/8 (2).mov\"  # Update this path to your video file\n",
        "    cap = cv2.VideoCapture(video_path)\n",
        "    if not cap.isOpened():\n",
        "        raise IOError(\"Cannot open video\")\n",
        "\n",
        "    while True:\n",
        "        # Read frame-by-frame\n",
        "        ret, frame = cap.read()\n",
        "        if not ret:\n",
        "            print(\"Error reading frame or end of video. Exiting...\")\n",
        "            break\n",
        "\n",
        "        # Increment the frame counter\n",
        "        frame_counter += 1\n",
        "\n",
        "        # Process only every 5th frame to reduce processing time\n",
        "        if frame_counter % 5 == 0:\n",
        "            results = pose.process(cv2.cvtColor(frame, cv2.COLOR_BGR2RGB))\n",
        "            if results.pose_landmarks:\n",
        "                for idx, label in zip(landmark_indices, landmark_labels):\n",
        "                    landmark = results.pose_landmarks.landmark[idx]\n",
        "                    # Write each landmark to the CSV\n",
        "                    csvwriter.writerow([\n",
        "                        label,\n",
        "                        landmark.x,\n",
        "                        landmark.y,\n",
        "                        frame_counter\n",
        "                    ])\n",
        "\n",
        "            # If you wish to display the frame, adjust the display function accordingly\n",
        "            # cv2.imshow('Frame', frame)\n",
        "            # if cv2.waitKey(1) & 0xFF == ord('q'):\n",
        "            #     break\n",
        "\n",
        "    # Release the capture once done\n",
        "    cap.release()\n",
        "    cv2.destroyAllWindows()\n",
        "    print(\"Video processing and CSV writing completed.\")\n"
      ]
    },
    {
      "cell_type": "markdown",
      "metadata": {
        "id": "mYhp-UJwmkX-"
      },
      "source": [
        "Transformed CSV file"
      ]
    },
    {
      "cell_type": "code",
      "execution_count": null,
      "metadata": {
        "id": "s1BNN0HGmQI5"
      },
      "outputs": [],
      "source": [
        "import pandas as pd\n",
        "\n",
        "# Read the generated CSV file containing pose landmarks data.\n",
        "df = pd.read_csv('/content/pose_landmarks.csv')\n",
        "\n",
        "# Transform the dataframe for easier analysis.\n",
        "# Pivot the table to make each landmark name a separate column for X and Y coordinates.\n",
        "pivot_x = df.pivot(index='Frame Number', columns='Landmark Name', values='X').add_prefix('X_')\n",
        "pivot_y = df.pivot(index='Frame Number', columns='Landmark Name', values='Y').add_prefix('Y_')\n",
        "pivot_merged = pivot_x.merge(pivot_y, left_index=True, right_index=True)\n",
        "\n",
        "# Save the transformed dataframe to a new CSV file\n",
        "transformed_csv_filename = \"transformed_pose_landmarks.csv\"\n",
        "pivot_merged.to_csv(transformed_csv_filename)\n"
      ]
    },
    {
      "cell_type": "markdown",
      "source": [
        "After the original CSV file is transformed the data \"transformed_pose_landmarks.csv\" is ready to be merged with anottation labels"
      ],
      "metadata": {
        "id": "fRqnRqLZrvh8"
      }
    }
  ],
  "metadata": {
    "colab": {
      "provenance": []
    },
    "kernelspec": {
      "display_name": "Python 3",
      "name": "python3"
    },
    "language_info": {
      "name": "python"
    }
  },
  "nbformat": 4,
  "nbformat_minor": 0
}